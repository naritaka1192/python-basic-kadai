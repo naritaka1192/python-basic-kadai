{
  "nbformat": 4,
  "nbformat_minor": 0,
  "metadata": {
    "colab": {
      "provenance": []
    },
    "kernelspec": {
      "name": "python3",
      "display_name": "Python 3"
    },
    "language_info": {
      "name": "python"
    }
  },
  "cells": [
    {
      "cell_type": "code",
      "execution_count": 6,
      "metadata": {
        "colab": {
          "base_uri": "https://localhost:8080/"
        },
        "id": "LcJKIHoae4rb",
        "outputId": "696c1a76-e0b9-48c6-944d-f5e9855b6c51"
      },
      "outputs": [
        {
          "output_type": "stream",
          "name": "stdout",
          "text": [
            "330.0\n"
          ]
        }
      ],
      "source": [
        "price1=100\n",
        "price2=200\n",
        "\n",
        "def total():\n",
        "  tax = 1.1\n",
        "  return (price1 + price2)*tax\n",
        "\n",
        "print(total())"
      ]
    }
  ]
}