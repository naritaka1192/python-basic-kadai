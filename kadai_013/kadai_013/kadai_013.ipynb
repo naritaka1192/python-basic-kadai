{
  "nbformat": 4,
  "nbformat_minor": 0,
  "metadata": {
    "colab": {
      "provenance": []
    },
    "kernelspec": {
      "name": "python3",
      "display_name": "Python 3"
    },
    "language_info": {
      "name": "python"
    }
  },
  "cells": [
    {
      "cell_type": "code",
      "execution_count": 51,
      "metadata": {
        "colab": {
          "base_uri": "https://localhost:8080/"
        },
        "id": "LMzL5DIkAK7q",
        "outputId": "50378e0d-bf40-403d-d693-52b88f5c526a"
      },
      "outputs": [
        {
          "output_type": "stream",
          "name": "stdout",
          "text": [
            "220.0\n"
          ]
        }
      ],
      "source": [
        "def marchandece(price,tax):\n",
        "  print(price+(price*(tax/100)))\n",
        "\n",
        "marchandece(200,10)"
      ]
    }
  ]
}