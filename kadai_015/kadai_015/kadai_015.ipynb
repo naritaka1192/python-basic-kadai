{
  "nbformat": 4,
  "nbformat_minor": 0,
  "metadata": {
    "colab": {
      "provenance": []
    },
    "kernelspec": {
      "name": "python3",
      "display_name": "Python 3"
    },
    "language_info": {
      "name": "python"
    }
  },
  "cells": [
    {
      "cell_type": "code",
      "execution_count": 18,
      "metadata": {
        "colab": {
          "base_uri": "https://localhost:8080/"
        },
        "id": "R4WVuhGQnrBs",
        "outputId": "5a180235-3a64-4a95-c718-2a1965587fd2"
      },
      "outputs": [
        {
          "output_type": "stream",
          "name": "stdout",
          "text": [
            "\n",
            "\n"
          ]
        }
      ],
      "source": [
        "class Human:\n",
        "  def __init__(self,name,age):\n",
        "    self.name = name\n",
        "    self.age = name\n",
        "\n",
        "  def set_name(self,name):\n",
        "    self.name = name\n",
        "  def set_age(self,age):\n",
        "    self.age = age\n",
        "\n",
        "  def printinfo(self):\n",
        "    print(self.name)\n",
        "    print(self.age)\n",
        "\n",
        "human = Human(\"侍太郎\",39)\n",
        "\n",
        "human.printinfo()"
      ]
    }
  ]
}