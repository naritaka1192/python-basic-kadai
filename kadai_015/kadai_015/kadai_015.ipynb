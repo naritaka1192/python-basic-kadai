{
  "nbformat": 4,
  "nbformat_minor": 0,
  "metadata": {
    "colab": {
      "provenance": []
    },
    "kernelspec": {
      "name": "python3",
      "display_name": "Python 3"
    },
    "language_info": {
      "name": "python"
    }
  },
  "cells": [
    {
      "cell_type": "code",
      "execution_count": 2,
      "metadata": {
        "colab": {
          "base_uri": "https://localhost:8080/"
        },
        "id": "R4WVuhGQnrBs",
        "outputId": "76bedeae-50b5-4ae5-bd44-cf99f83ef1c3"
      },
      "outputs": [
        {
          "output_type": "stream",
          "name": "stdout",
          "text": [
            "侍太郎\n",
            "39\n"
          ]
        }
      ],
      "source": [
        "class Human:\n",
        "  def __init__(self,name,age):\n",
        "    self.name = name\n",
        "    self.age = age\n",
        "\n",
        "  def set_name(self,name):\n",
        "    self.name = name\n",
        "  def set_age(self,age):\n",
        "    self.age = age\n",
        "\n",
        "  def printinfo(self):\n",
        "    print(self.name)\n",
        "    print(self.age)\n",
        "\n",
        "human = Human(\"侍太郎\",39)\n",
        "\n",
        "human.printinfo()"
      ]
    }
  ]
}