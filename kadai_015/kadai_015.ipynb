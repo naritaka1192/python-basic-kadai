{
  "nbformat": 4,
  "nbformat_minor": 0,
  "metadata": {
    "colab": {
      "provenance": []
    },
    "kernelspec": {
      "name": "python3",
      "display_name": "Python 3"
    },
    "language_info": {
      "name": "python"
    }
  },
  "cells": [
    {
      "cell_type": "code",
      "execution_count": 16,
      "metadata": {
        "colab": {
          "base_uri": "https://localhost:8080/"
        },
        "id": "LcJKIHoae4rb",
        "outputId": "7d484cec-5e1f-4f0b-ea5b-1a42ac4a4b38"
      },
      "outputs": [
        {
          "output_type": "stream",
          "name": "stdout",
          "text": [
            "侍\n",
            "222\n"
          ]
        }
      ],
      "source": [
        "class Human:\n",
        "  def __init__(self,name,age):\n",
        "    self.name = name\n",
        "    self.age = age\n",
        "\n",
        "human = Human(\"侍花子\",33)\n",
        "\n",
        "print(human.name)\n",
        "print(human.age)"
      ]
    }
  ]
}