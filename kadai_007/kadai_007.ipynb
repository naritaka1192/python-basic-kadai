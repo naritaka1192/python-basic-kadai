{
  "nbformat": 4,
  "nbformat_minor": 0,
  "metadata": {
    "colab": {
      "provenance": []
    },
    "kernelspec": {
      "name": "python3",
      "display_name": "Python 3"
    },
    "language_info": {
      "name": "python"
    }
  },
  "cells": [
    {
      "cell_type": "code",
      "execution_count": 19,
      "metadata": {
        "colab": {
          "base_uri": "https://localhost:8080/"
        },
        "id": "DcqDiJjkEBGi",
        "outputId": "b314bdac-a30b-4561-f1c3-884741f79b6a"
      },
      "outputs": [
        {
          "output_type": "stream",
          "name": "stdout",
          "text": [
            "晴れ\n",
            "水曜日は晴れです\n"
          ]
        }
      ],
      "source": [
        "list=[\n",
        "    \"月曜日は晴れです\",\n",
        "    \"火曜日は雨です\",\n",
        "    \"水曜日は晴れです\",\n",
        "    \"木曜日は晴れです\",\n",
        "    \"金曜日は曇りです\",\n",
        "    \"土曜日は曇りのち雨です\"\n",
        "    \"日曜日は雷雨です\"]\n",
        "\n",
        "dictionary ={\n",
        "      \"mon\":\"晴れ\",\n",
        "      \"tue\":\"雨\",\n",
        "      \"wed\":\"晴れ\",\n",
        "      \"thu\":\"晴れ\",\n",
        "      \"fry\":\"曇り\",\n",
        "      \"sat\":\"曇りのち雨\",\n",
        "      \"sun\":\"雷雨\",\n",
        "  }\n",
        "\n",
        "print(dictionary[\"wed\"])\n",
        "print(list[2])"
      ]
    }
  ]
}